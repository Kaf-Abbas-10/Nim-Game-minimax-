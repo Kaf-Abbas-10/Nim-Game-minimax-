{
  "cells": [
    {
      "cell_type": "markdown",
      "id": "fdb39e84",
      "metadata": {
        "id": "fdb39e84"
      },
      "source": [
        "# Nim Game with Minimax\n",
        "This notebook provides a basic structure. Your task is to complete the game logic and the Minimax AI."
      ]
    },
    {
      "cell_type": "markdown",
      "id": "01ad7c32",
      "metadata": {
        "id": "01ad7c32"
      },
      "source": [
        "## Game Setup"
      ]
    },
    {
      "cell_type": "code",
      "execution_count": 5,
      "id": "62683279",
      "metadata": {
        "id": "62683279"
      },
      "outputs": [],
      "source": [
        "import math\n",
        "def initialize_game():\n",
        "    \"\"\"Initialize the piles with 3, 4, and 5 sticks.\"\"\"\n",
        "    return [3, 4, 5]\n"
      ]
    },
    {
      "cell_type": "markdown",
      "id": "2d35f899",
      "metadata": {
        "id": "2d35f899"
      },
      "source": [
        "## Functions"
      ]
    },
    {
      "cell_type": "code",
      "execution_count": 6,
      "id": "dd3b6a09",
      "metadata": {
        "id": "dd3b6a09"
      },
      "outputs": [],
      "source": [
        "\n",
        "def is_terminal(piles):\n",
        "    \"\"\"Check if the game has ended (no sticks left).\"\"\"\n",
        "    # TODO: Return True if all piles are empty\n",
        "    for pile in piles:\n",
        "        if pile != 0:\n",
        "            return False\n",
        "    return True\n"
      ]
    },
    {
      "cell_type": "code",
      "execution_count": null,
      "id": "20563a1f",
      "metadata": {
        "id": "20563a1f"
      },
      "outputs": [],
      "source": [
        "\n",
        "def get_valid_moves(piles):\n",
        "    \"\"\"Return all valid moves as (pile_index, num_to_remove) pairs.\"\"\"\n",
        "    # TODO: Generate a list of valid moves\n",
        "    ans = []\n",
        "    for i in range(len(piles)):\n",
        "        for j in range(1, piles[i] + 1):\n",
        "            ans.append((i, j))\n",
        "    return ans\n"
      ]
    },
    {
      "cell_type": "code",
      "execution_count": null,
      "id": "1c1c5f4d",
      "metadata": {
        "id": "1c1c5f4d"
      },
      "outputs": [],
      "source": [
        "\n",
        "def apply_move(piles, pile_index, num_to_remove):\n",
        "    \"\"\"Return a new list of piles after applying a move.\"\"\"\n",
        "    # TODO: Copy piles and apply the move\n",
        "    ans = piles[:]\n",
        "    ans[pile_index] -= num_to_remove\n",
        "    return ans\n"
      ]
    },
    {
      "cell_type": "code",
      "execution_count": 53,
      "id": "e1498086",
      "metadata": {
        "id": "e1498086"
      },
      "outputs": [],
      "source": [
        "\n",
        "def minimax(piles, is_maximizing):\n",
        "    \"\"\"Minimax recursive algorithm to determine best score.\"\"\"\n",
        "    # TODO: Base case for terminal state\n",
        "    # TODO: Recursive call for maximizing and minimizing player\n",
        "    if is_terminal(piles):\n",
        "        if is_maximizing:\n",
        "            return -1\n",
        "        return 1\n",
        "    if is_maximizing:\n",
        "        bestValue = -math.inf\n",
        "        for pile, amount in get_valid_moves(piles):\n",
        "            new_piles = piles.copy()\n",
        "            new_piles[pile] -= amount\n",
        "            value = minimax(new_piles, False)\n",
        "            bestValue = max(bestValue, value)\n",
        "        return bestValue\n",
        "    else:\n",
        "        bestValue = math.inf\n",
        "        for pile, amount in get_valid_moves(piles):\n",
        "            new_piles = piles.copy()\n",
        "            new_piles[pile] -= amount\n",
        "            value = minimax(new_piles, True)\n",
        "            bestValue = min(bestValue, value)\n",
        "        return bestValue\n",
        "\n"
      ]
    },
    {
      "cell_type": "code",
      "execution_count": 51,
      "id": "3144b1da",
      "metadata": {
        "id": "3144b1da"
      },
      "outputs": [],
      "source": [
        "\n",
        "def find_best_move(piles):\n",
        "    \"\"\"Return the best move for the AI using Minimax.\"\"\"\n",
        "    # TODO: Evaluate all valid moves using Minimax\n",
        "    valid_moves = get_valid_moves(piles)\n",
        "    best_move = None\n",
        "    best_score = -math.inf\n",
        "    for pile, amount in valid_moves:\n",
        "        new_piles = piles.copy()\n",
        "        new_piles[pile] -= amount\n",
        "        score = minimax(new_piles, False)\n",
        "        if best_score < score:\n",
        "            best_score = score\n",
        "            best_move = (pile, amount)\n",
        "    return best_move\n",
        "\n"
      ]
    },
    {
      "cell_type": "code",
      "execution_count": 46,
      "id": "dcb3b500",
      "metadata": {
        "id": "dcb3b500"
      },
      "outputs": [],
      "source": [
        "\n",
        "def get_human_move(piles):\n",
        "    \"\"\"Get a valid move from the human player.\"\"\"\n",
        "    # TODO: Prompt user, validate input, and return move\n",
        "    index = int(input(\"Enter the pile index: \"))\n",
        "    count = int(input(\"Enter the number of stones to remove: \"))\n",
        "    return index, count"
      ]
    },
    {
      "cell_type": "code",
      "execution_count": 47,
      "id": "e701b833",
      "metadata": {
        "id": "e701b833"
      },
      "outputs": [],
      "source": [
        "\n",
        "def game_loop():\n",
        "    \"\"\"Main game loop where human and AI take turns.\"\"\"\n",
        "    piles = initialize_game()\n",
        "    current_player = \"HUMAN\"\n",
        "\n",
        "    while not is_terminal(piles):\n",
        "        print(f\"Piles: {piles}\")\n",
        "        if current_player == \"HUMAN\":\n",
        "            pile, amount = get_human_move(piles)\n",
        "        else:\n",
        "            print(\"AI is thinking...\")\n",
        "            pile, amount = find_best_move(piles)\n",
        "            print(f\"AI removes {amount} from pile {pile+1}\")\n",
        "\n",
        "        piles = apply_move(piles, pile, amount)\n",
        "        current_player = \"AI\" if current_player == \"HUMAN\" else \"HUMAN\"\n",
        "\n",
        "    print(f\"Game over! {current_player} loses.\")\n"
      ]
    },
    {
      "cell_type": "code",
      "execution_count": 55,
      "id": "884f89e6",
      "metadata": {
        "id": "884f89e6"
      },
      "outputs": [
        {
          "name": "stdout",
          "output_type": "stream",
          "text": [
            "Piles: [3, 4, 5]\n",
            "Piles: [2, 4, 5]\n",
            "AI is thinking...\n",
            "AI removes 1 from pile 1\n",
            "Piles: [1, 4, 5]\n",
            "Piles: [0, 4, 5]\n",
            "AI is thinking...\n",
            "AI removes 1 from pile 3\n",
            "Piles: [0, 4, 4]\n",
            "Piles: [0, 0, 4]\n",
            "AI is thinking...\n",
            "AI removes 4 from pile 3\n",
            "Game over! HUMAN loses.\n"
          ]
        }
      ],
      "source": [
        "\n",
        "# Run the game\n",
        "game_loop()\n"
      ]
    },
    {
      "cell_type": "code",
      "execution_count": null,
      "id": "94eb74f7",
      "metadata": {},
      "outputs": [],
      "source": []
    }
  ],
  "metadata": {
    "colab": {
      "provenance": []
    },
    "kernelspec": {
      "display_name": "Python 3",
      "language": "python",
      "name": "python3"
    },
    "language_info": {
      "codemirror_mode": {
        "name": "ipython",
        "version": 3
      },
      "file_extension": ".py",
      "mimetype": "text/x-python",
      "name": "python",
      "nbconvert_exporter": "python",
      "pygments_lexer": "ipython3",
      "version": "3.12.5"
    }
  },
  "nbformat": 4,
  "nbformat_minor": 5
}
